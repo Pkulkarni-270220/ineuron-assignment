{
  "nbformat": 4,
  "nbformat_minor": 0,
  "metadata": {
    "colab": {
      "name": "ineuron python programming assig-1",
      "provenance": [],
      "authorship_tag": "ABX9TyPZxAIsbo4GfvDLeSz6kXRF",
      "include_colab_link": true
    },
    "kernelspec": {
      "name": "python3",
      "display_name": "Python 3"
    },
    "language_info": {
      "name": "python"
    }
  },
  "cells": [
    {
      "cell_type": "markdown",
      "metadata": {
        "id": "view-in-github",
        "colab_type": "text"
      },
      "source": [
        "<a href=\"https://colab.research.google.com/github/Pkulkarni-270220/ineuron-assignment/blob/main/ineuron_python_programming_assig_1.ipynb\" target=\"_parent\"><img src=\"https://colab.research.google.com/assets/colab-badge.svg\" alt=\"Open In Colab\"/></a>"
      ]
    },
    {
      "cell_type": "code",
      "metadata": {
        "colab": {
          "base_uri": "https://localhost:8080/"
        },
        "id": "nD5NU249EX12",
        "outputId": "c5ca169d-b2dd-4e17-eed3-7a7feb2ff620"
      },
      "source": [
        "print(\"Hello Python\")"
      ],
      "execution_count": 1,
      "outputs": [
        {
          "output_type": "stream",
          "name": "stdout",
          "text": [
            "Hello Python\n"
          ]
        }
      ]
    },
    {
      "cell_type": "code",
      "metadata": {
        "colab": {
          "base_uri": "https://localhost:8080/"
        },
        "id": "1AhtBXD2EvKL",
        "outputId": "11ddde77-cab3-4f52-f8ea-9652fc458915"
      },
      "source": [
        "a = int(input(\"enter number \"))\n",
        "b = int(input(\"enter number \"))\n",
        "sum = a+b\n",
        "div = a/b\n",
        "print(\"the sum is : \",sum)\n",
        "print(\"the div is :\",div)"
      ],
      "execution_count": 10,
      "outputs": [
        {
          "output_type": "stream",
          "name": "stdout",
          "text": [
            "enter number 45\n",
            "enter number 5\n",
            "the sum is :  50\n",
            "the div is : 9.0\n"
          ]
        }
      ]
    },
    {
      "cell_type": "code",
      "metadata": {
        "colab": {
          "base_uri": "https://localhost:8080/"
        },
        "id": "mXaxzLOOFr66",
        "outputId": "3de09c31-5d7e-41b9-a005-d8e7ceea370d"
      },
      "source": [
        "height = int(input(\"enter height\"))\n",
        "base = int(input(\"enter base\"))\n",
        "area = (height*base)/2\n",
        "print(\"the area of triangle is :\",area)"
      ],
      "execution_count": 9,
      "outputs": [
        {
          "output_type": "stream",
          "name": "stdout",
          "text": [
            "enter height33\n",
            "enter base3\n",
            "the area of triangle is : 49.5\n"
          ]
        }
      ]
    },
    {
      "cell_type": "code",
      "metadata": {
        "colab": {
          "base_uri": "https://localhost:8080/"
        },
        "id": "zUDJmslgG_aB",
        "outputId": "64c34bcc-86b0-464f-fe64-0cde4f25a3b4"
      },
      "source": [
        "a = int(input(\"enter a number \"))\n",
        "b = int(input(\"enter a number \"))\n",
        "temp = a \n",
        "a = b\n",
        "b = temp\n",
        "print(a)\n",
        "print(b)"
      ],
      "execution_count": 12,
      "outputs": [
        {
          "output_type": "stream",
          "name": "stdout",
          "text": [
            "enter a number 4\n",
            "enter a number 8\n",
            "8\n",
            "4\n"
          ]
        }
      ]
    },
    {
      "cell_type": "code",
      "metadata": {
        "colab": {
          "base_uri": "https://localhost:8080/"
        },
        "id": "PJ6M-_3HHwbz",
        "outputId": "ef376737-d5a4-4787-a60f-e71279c9119e"
      },
      "source": [
        "import random\n",
        "print(random.randint(0,45))"
      ],
      "execution_count": 14,
      "outputs": [
        {
          "output_type": "stream",
          "name": "stdout",
          "text": [
            "16\n"
          ]
        }
      ]
    }
  ]
}