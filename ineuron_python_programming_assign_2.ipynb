{
  "nbformat": 4,
  "nbformat_minor": 0,
  "metadata": {
    "colab": {
      "name": "ineuron python programming assign-2",
      "provenance": [],
      "collapsed_sections": [],
      "authorship_tag": "ABX9TyMq+7ednBjr2nZiPzPMHpGj",
      "include_colab_link": true
    },
    "kernelspec": {
      "name": "python3",
      "display_name": "Python 3"
    },
    "language_info": {
      "name": "python"
    }
  },
  "cells": [
    {
      "cell_type": "markdown",
      "metadata": {
        "id": "view-in-github",
        "colab_type": "text"
      },
      "source": [
        "<a href=\"https://colab.research.google.com/github/Pkulkarni-270220/ineuron-assignment/blob/main/ineuron_python_programming_assign_2.ipynb\" target=\"_parent\"><img src=\"https://colab.research.google.com/assets/colab-badge.svg\" alt=\"Open In Colab\"/></a>"
      ]
    },
    {
      "cell_type": "code",
      "metadata": {
        "colab": {
          "base_uri": "https://localhost:8080/"
        },
        "id": "0ziQhvzfJbuZ",
        "outputId": "e3ecccc3-f028-4474-aaf5-95be936a3e60"
      },
      "source": [
        "kilometer = float(input(\"enter the kilometer\"))\n",
        "meter = kilometer*1000\n",
        "print(\"the converted meter is :\", meter)"
      ],
      "execution_count": 1,
      "outputs": [
        {
          "output_type": "stream",
          "name": "stdout",
          "text": [
            "enter the kilometer50.0\n",
            "the converted meter is : 50000.0\n"
          ]
        }
      ]
    },
    {
      "cell_type": "code",
      "metadata": {
        "colab": {
          "base_uri": "https://localhost:8080/"
        },
        "id": "dTIC_92BKga6",
        "outputId": "8a55690e-f575-4b7c-ace1-29dad17d7e24"
      },
      "source": [
        "celsius = float(input(\"enter the centigrade \"))\n",
        "fahrenheit = (celsius+1.8)+32 \n",
        "print(\"the converted fahrenheit is :\", fahrenheit)"
      ],
      "execution_count": 2,
      "outputs": [
        {
          "output_type": "stream",
          "name": "stdout",
          "text": [
            "enter the centigrade 34.5\n",
            "the converted fahrenheit is : 68.3\n"
          ]
        }
      ]
    },
    {
      "cell_type": "code",
      "metadata": {
        "colab": {
          "base_uri": "https://localhost:8080/"
        },
        "id": "C33dcy5aLUZa",
        "outputId": "5e7a76d9-8df8-4e56-9387-a73d510227bc"
      },
      "source": [
        "import cmath\n",
        "a = int(input(\"enter the number \"))\n",
        "b = int(input(\"enter the number \"))\n",
        "c = int(input(\"enter the number\"))\n",
        "d = (b**2) - (4*a*c)\n",
        "sol_1 = (-b-cmath.sqrt(d))/(2*a)\n",
        "sol_2 = (-b+cmath.sqrt(d))/(2*a)\n",
        "\n",
        "print('The solution are {0} and {1}'.format(sol_1,sol_2))"
      ],
      "execution_count": 3,
      "outputs": [
        {
          "output_type": "stream",
          "name": "stdout",
          "text": [
            "enter the number 6\n",
            "enter the number 4\n",
            "enter the number3\n",
            "The solution are (-0.3333333333333333-0.6236095644623235j) and (-0.3333333333333333+0.6236095644623235j)\n"
          ]
        }
      ]
    },
    {
      "cell_type": "code",
      "metadata": {
        "colab": {
          "base_uri": "https://localhost:8080/"
        },
        "id": "LVyje7SmMnNz",
        "outputId": "3c2238f2-b296-4ce1-f66d-ff53577033b4"
      },
      "source": [
        "a = 5\n",
        "b = 7\n",
        " \n",
        "print (\"Before swapping: \")\n",
        "print(\"Value of a : \", a, \" and b : \", b)\n",
        " \n",
        "a, b = b, a\n",
        " \n",
        "print (\"After swapping: \")\n",
        "print(\"Value of a : \", a, \" and b : \", b)"
      ],
      "execution_count": 4,
      "outputs": [
        {
          "output_type": "stream",
          "name": "stdout",
          "text": [
            "Before swapping: \n",
            "Value of a :  5  and b :  7\n",
            "After swapping: \n",
            "Value of a :  7  and b :  5\n"
          ]
        }
      ]
    }
  ]
}